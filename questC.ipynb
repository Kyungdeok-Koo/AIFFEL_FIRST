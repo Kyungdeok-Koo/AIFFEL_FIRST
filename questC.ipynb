{
  "nbformat": 4,
  "nbformat_minor": 0,
  "metadata": {
    "colab": {
      "provenance": [],
      "include_colab_link": true
    },
    "kernelspec": {
      "name": "python3",
      "display_name": "Python 3"
    },
    "language_info": {
      "name": "python"
    }
  },
  "cells": [
    {
      "cell_type": "markdown",
      "metadata": {
        "id": "view-in-github",
        "colab_type": "text"
      },
      "source": [
        "<a href=\"https://colab.research.google.com/github/hayannn/AIFFEL_FIRST/blob/master/questC.ipynb\" target=\"_parent\"><img src=\"https://colab.research.google.com/assets/colab-badge.svg\" alt=\"Open In Colab\"/></a>"
      ]
    },
    {
      "cell_type": "code",
      "execution_count": null,
      "metadata": {
        "id": "OiWcCS9Y8Gm1"
      },
      "outputs": [],
      "source": [
        "import random\n",
        "\n",
        "class Account:\n",
        "  bankName = \"SC은행\" # 은행이름\n",
        "  bankAccount = \"\" # 계좌번호\n",
        "  account_Count = 0 # 계좌 개수\n",
        "  account_Inser_Count = 0 # 입금 횟수\n",
        "  insertmoney = 0 # 입금할 금액\n",
        "  deletemoney = 0 # 출금할 금액\n",
        "\n",
        "  def __init__(self, accountHolder, balance): # 생성자\n",
        "    self.accountHolder = accountHolder # 예금주\n",
        "    self.balance = int(balance) # 잔액\n",
        "    Account.account_Count += 1\n",
        "\n",
        "  def generateAccountNumber(self): # 랜덤한 계좌번호 생성\n",
        "    num1 = random.randint(100, 999) # 3자리 랜덤\n",
        "    num2 = random.randint(10, 99) # 2자리 랜덤\n",
        "    num3 = random.randint(100000, 999999) # 6자리 랜덤\n",
        "    self.bankAccount = str(num1) + \"-\" + str(num2) + \"-\" + str(num3) # 계좌번호 생성\n",
        "\n",
        "  def get_account_num(self): # 계좌 개수 출력\n",
        "    return f'생성된 계좌의 개수는 {Account.account_Count}개 입니다.'\n",
        "\n",
        "  def deposit(self, insertmoney): # 입금\n",
        "    self.insertmoney = insertmoney\n",
        "    if insertmoney >= 1: # 1원 이상일 경우만\n",
        "      if Account.account_Inser_Count == 5: # 5회 입금 하였을 경우\n",
        "        self.balance += insertmoney * 0.01 # 1% 추가\n",
        "        print(f'5회 입금하셔서 {self.balance * 0.01}가 추가되었습니다')\n",
        "\n",
        "      self.balance += insertmoney\n",
        "      Account.account_Inser_Count += 1\n",
        "      result = Account.deposit_history(self) # 입금 내역 함수 호출\n",
        "      return result\n",
        "\n",
        "    else:\n",
        "      return f'1원 이상의 금액만 입금 가능합니다.'\n",
        "\n",
        "  def withdraw(self, deletemoney): # 출금\n",
        "    self.deletemoney = deletemoney # 현재 잔액이 출금 금액보다 많을 경우\n",
        "    if self.balance > deletemoney:\n",
        "      self.balance -= deletemoney\n",
        "      result = Account.withdraw_history(self) # 출금 내역 함수 호출\n",
        "      return result\n",
        "\n",
        "    else:\n",
        "      return f'잔고 이상으로 출금할 수 없습니다.'\n",
        "\n",
        "  def display_info(self): # 현재 정보 출력\n",
        "    balance = format(self.balance, ',')\n",
        "    return f'은행이름: {Account.bankName}, 예금주: {self.accountHolder}, 계좌번호: {self.bankAccount}, 잔고: {balance}원'\n",
        "\n",
        "  def deposit_history(self):\n",
        "      return f'{self.insertmoney}이 입급되었습니다. 현재 잔액은 {self.balance}입니다.'\n",
        "\n",
        "  def withdraw_history(self):\n",
        "      return f'{self.deletemoney}가 출금되었습니다. 현재 잔액은 {self.balance}입니다.'\n"
      ]
    },
    {
      "cell_type": "code",
      "source": [
        "# 결과 확인\n",
        "Account1 = Account(\"안동균\", 100000)\n",
        "Account2 = Account(\"이하얀\", 1000000)\n",
        "Account3 = Account(\"김정은\", 1000000000000000)\n",
        "\n",
        "accountList = [Account1, Account2, Account3]\n",
        "\n",
        "for account in accountList:\n",
        "  if account.balance >= 1000000:\n",
        "    account.generateAccountNumber()\n",
        "    print(account.display_info())\n"
      ],
      "metadata": {
        "colab": {
          "base_uri": "https://localhost:8080/"
        },
        "id": "NsUgz2OYCMKv",
        "outputId": "3f0d3daa-6cad-4181-e8a1-cd12b42362e0"
      },
      "execution_count": null,
      "outputs": [
        {
          "output_type": "stream",
          "name": "stdout",
          "text": [
            "은행이름: SC은행, 예금주: 이하얀, 계좌번호: 375-34-102426, 잔고: 1,000,000원\n",
            "은행이름: SC은행, 예금주: 김정은, 계좌번호: 361-41-820855, 잔고: 1,000,000,000,000,000원\n"
          ]
        }
      ]
    },
    {
      "cell_type": "code",
      "source": [
        "print(Account1.deposit(100000000))"
      ],
      "metadata": {
        "id": "CGeBNtqfMK2P",
        "colab": {
          "base_uri": "https://localhost:8080/"
        },
        "outputId": "b46dbe6c-9c8a-4866-f004-6d8e1d2328c9"
      },
      "execution_count": null,
      "outputs": [
        {
          "output_type": "stream",
          "name": "stdout",
          "text": [
            "100000000이 입급되었습니다. 현재 잔액은 100100000입니다.\n"
          ]
        }
      ]
    },
    {
      "cell_type": "code",
      "source": [
        "print(Account1.withdraw(10000))"
      ],
      "metadata": {
        "colab": {
          "base_uri": "https://localhost:8080/"
        },
        "id": "QrCi56EdTD1O",
        "outputId": "31beeecd-88b5-45da-8860-08b3ee33c746"
      },
      "execution_count": null,
      "outputs": [
        {
          "output_type": "stream",
          "name": "stdout",
          "text": [
            "10000가 출금되었습니다. 현재 잔액은 100090000입니다.\n"
          ]
        }
      ]
    }
  ]
}